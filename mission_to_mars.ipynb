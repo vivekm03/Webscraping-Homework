{
 "cells": [
  {
   "cell_type": "code",
   "execution_count": 8,
   "metadata": {},
   "outputs": [],
   "source": [
    "from splinter import Browser\n",
    "from bs4 import BeautifulSoup\n",
    "import requests\n",
    "import pandas as pd\n",
    "from datetime import datetime\n"
   ]
  },
  {
   "cell_type": "code",
   "execution_count": 9,
   "metadata": {
    "scrolled": false
   },
   "outputs": [],
   "source": [
    "url=\"https://mars.nasa.gov/news\"\n",
    "# Retrieve page with the requests module\n",
    "response = requests.get(url)\n",
    "# Create BeautifulSoup object; parse with 'html.parser'\n",
    "soup = BeautifulSoup(response.text, 'html.parser')\n",
    "#print(soup.prettify())"
   ]
  },
  {
   "cell_type": "code",
   "execution_count": 10,
   "metadata": {},
   "outputs": [
    {
     "name": "stdout",
     "output_type": "stream",
     "text": [
      "None\n"
     ]
    }
   ],
   "source": [
    "# results are returned as an iterable list\n",
    "results = soup.find('ul', class_=\"item_list\")\n",
    "print(results)"
   ]
  },
  {
   "cell_type": "code",
   "execution_count": 11,
   "metadata": {},
   "outputs": [],
   "source": [
    "mars_dict={}\n",
    "\n",
    "# Initialize browser\n",
    "def init_browser():\n",
    "    # @NOTE: Replace the path with your actual path to the chromedriver\n",
    "    #executable_path = {\"executable_path\": \"/usr/local/bin/chromedriver\"}\n",
    "    executable_path = {'executable_path': 'chromedriver.exe'}\n",
    "    return Browser(\"chrome\", **executable_path, headless=False)"
   ]
  },
  {
   "cell_type": "code",
   "execution_count": 12,
   "metadata": {},
   "outputs": [
    {
     "name": "stdout",
     "output_type": "stream",
     "text": [
      "Mars New Home 'a Large Sandbox'\n",
      "With InSight safely on the surface of Mars, the mission team is busy learning more about the spacecraft's landing site.\n"
     ]
    }
   ],
   "source": [
    "def scrape_start(url1):\n",
    "    # Initialize browser\n",
    "    browser = init_browser()\n",
    "    # Visit Nasa.gov news website  \n",
    "    browser.visit(url1)\n",
    "    # Scrape page into soup\n",
    "    html = browser.html\n",
    "    global soup\n",
    "    soup = BeautifulSoup(html, \"html.parser\")\n",
    "    \n",
    "def scrape_news(url):\n",
    "    scrape_start(url1=url)\n",
    "    soup1=soup\n",
    "    res = soup1.find(\"section\", class_=\"grid_gallery module list_view\")\n",
    "    #print (res.prettify())\n",
    "    #Identify and return first news title\n",
    "    news_title = res.find('div', class_=\"content_title\").a.text\n",
    "    #Identify and return first news paragraph\n",
    "    news_p = res.find('div', class_=\"article_teaser_body\").text\n",
    "    print(news_title)\n",
    "    print (news_p)\n",
    "    \n",
    "scrape_news(url=\"https://mars.nasa.gov/news\")"
   ]
  },
  {
   "cell_type": "code",
   "execution_count": 17,
   "metadata": {},
   "outputs": [
    {
     "name": "stdout",
     "output_type": "stream",
     "text": [
      "https://www.jpl.nasa.gov/spaceimages/images/largesize/PIA18848_hires.jpg\n"
     ]
    },
    {
     "data": {
      "text/plain": [
       "'https://www.jpl.nasa.gov/spaceimages/images/largesize/PIA18848_hires.jpg'"
      ]
     },
     "execution_count": 17,
     "metadata": {},
     "output_type": "execute_result"
    }
   ],
   "source": [
    "def scrape_img(url):\n",
    "    #Scrape main page\n",
    "    scrape_start(url1=url) #Call scraping start function\n",
    "    soup1=soup\n",
    "    res1 = soup1.find('a', class_=\"button fancybox\") #get url behind 'Full Image' button on main page\n",
    "    #create link to detailed page with large image\n",
    "    url2=\"https://www.jpl.nasa.gov\" + res1[\"data-link\"]\n",
    "\n",
    "    #Scrape page with large (full size) image\n",
    "    scrape_start(url1=url2) #Call scraping start function\n",
    "    soup_img=soup\n",
    "    res_img=soup_img.find('figure', class_=\"lede\").find('a').get('href') #get url for large sized image\n",
    "    featured_image_url=\"https://www.jpl.nasa.gov\" + res_img\n",
    "    print (featured_image_url)\n",
    "    return featured_image_url\n",
    "\n",
    "scrape_img(url=\"https://www.jpl.nasa.gov/spaceimages/?search=&category=Mars\")"
   ]
  },
  {
   "cell_type": "code",
   "execution_count": 34,
   "metadata": {},
   "outputs": [
    {
     "ename": "AttributeError",
     "evalue": "'NoneType' object has no attribute 'find'",
     "output_type": "error",
     "traceback": [
      "\u001b[1;31m---------------------------------------------------------------------------\u001b[0m",
      "\u001b[1;31mAttributeError\u001b[0m                            Traceback (most recent call last)",
      "\u001b[1;32m<ipython-input-34-556764d91bb2>\u001b[0m in \u001b[0;36m<module>\u001b[1;34m()\u001b[0m\n\u001b[0;32m      5\u001b[0m \u001b[1;33m\u001b[0m\u001b[0m\n\u001b[0;32m      6\u001b[0m \u001b[1;31m#Identify and return first Mars weather tweet\u001b[0m\u001b[1;33m\u001b[0m\u001b[1;33m\u001b[0m\u001b[0m\n\u001b[1;32m----> 7\u001b[1;33m \u001b[0mmars_weather\u001b[0m \u001b[1;33m=\u001b[0m \u001b[0mres\u001b[0m\u001b[1;33m.\u001b[0m\u001b[0mfind\u001b[0m\u001b[1;33m(\u001b[0m\u001b[1;34m'p'\u001b[0m\u001b[1;33m,\u001b[0m \u001b[0mclass_\u001b[0m\u001b[1;33m=\u001b[0m\u001b[1;34m\"TweetTextSize TweetTextSize--normal js-tweet-text tweet-text\"\u001b[0m\u001b[1;33m)\u001b[0m\u001b[1;33m.\u001b[0m\u001b[0mtext\u001b[0m\u001b[1;33m\u001b[0m\u001b[0m\n\u001b[0m\u001b[0;32m      8\u001b[0m \u001b[0mprint\u001b[0m \u001b[1;33m(\u001b[0m\u001b[0mmars_weather\u001b[0m\u001b[1;33m)\u001b[0m\u001b[1;33m\u001b[0m\u001b[0m\n\u001b[0;32m      9\u001b[0m \u001b[1;31m#Add to dictionary\u001b[0m\u001b[1;33m\u001b[0m\u001b[1;33m\u001b[0m\u001b[0m\n",
      "\u001b[1;31mAttributeError\u001b[0m: 'NoneType' object has no attribute 'find'"
     ]
    }
   ],
   "source": [
    "def scrape_tweet(url):    \n",
    "        scrape_start(url1=url)\n",
    "        soup1=soup\n",
    "        # Find section\n",
    "        res = soup.find(\"a\", class_=\"js-tweet-text-container\")\n",
    "        \n",
    "        #Identify and return first Mars weather tweet\n",
    "        mars_weather = res.find('p', class_=\"TweetTextSize TweetTextSize--normal js-tweet-text tweet-text\").text\n",
    "        print (mars_weather)\n",
    "        #Add to dictionary\n",
    "        mars_dict[\"mars_weather\"] = mars_weather\n",
    "        return mars_dict"
   ]
  },
  {
   "cell_type": "code",
   "execution_count": 27,
   "metadata": {},
   "outputs": [
    {
     "data": {
      "text/plain": [
       "'<table border=\"1\" class=\"dataframe\">\\n  <thead>\\n    <tr style=\"text-align: right;\">\\n      <th></th>\\n      <th>fact</th>\\n      <th>value</th>\\n    </tr>\\n  </thead>\\n  <tbody>\\n    <tr>\\n      <th>0</th>\\n      <td>Equatorial Diameter:</td>\\n      <td>6,792 km</td>\\n    </tr>\\n    <tr>\\n      <th>1</th>\\n      <td>Polar Diameter:</td>\\n      <td>6,752 km</td>\\n    </tr>\\n    <tr>\\n      <th>2</th>\\n      <td>Mass:</td>\\n      <td>6.42 x 10^23 kg (10.7% Earth)</td>\\n    </tr>\\n    <tr>\\n      <th>3</th>\\n      <td>Moons:</td>\\n      <td>2 (Phobos &amp; Deimos)</td>\\n    </tr>\\n    <tr>\\n      <th>4</th>\\n      <td>Orbit Distance:</td>\\n      <td>227,943,824 km (1.52 AU)</td>\\n    </tr>\\n    <tr>\\n      <th>5</th>\\n      <td>Orbit Period:</td>\\n      <td>687 days (1.9 years)</td>\\n    </tr>\\n    <tr>\\n      <th>6</th>\\n      <td>Surface Temperature:</td>\\n      <td>-153 to 20 °C</td>\\n    </tr>\\n    <tr>\\n      <th>7</th>\\n      <td>First Record:</td>\\n      <td>2nd millennium BC</td>\\n    </tr>\\n    <tr>\\n      <th>8</th>\\n      <td>Recorded By:</td>\\n      <td>Egyptian astronomers</td>\\n    </tr>\\n  </tbody>\\n</table>'"
      ]
     },
     "execution_count": 27,
     "metadata": {},
     "output_type": "execute_result"
    }
   ],
   "source": [
    "url=\"http://space-facts.com/mars/\"\n",
    "tables = pd.read_html(url)\n",
    "df=pd.DataFrame({'fact':tables[0][0],'value':tables[0][1]})\n",
    "table_html=df.to_html()\n",
    "table_html"
   ]
  },
  {
   "cell_type": "code",
   "execution_count": 30,
   "metadata": {},
   "outputs": [
    {
     "name": "stdout",
     "output_type": "stream",
     "text": [
      "[{'title': 'Cerberus Hemisphere', 'img_url': 'http://astropedia.astrogeology.usgs.gov/download/Mars/Viking/cerberus_enhanced.tif/full.jpg'}, {'title': 'Schiaparelli Hemisphere', 'img_url': 'http://astropedia.astrogeology.usgs.gov/download/Mars/Viking/schiaparelli_enhanced.tif/full.jpg'}, {'title': 'Syrtis Major Hemisphere', 'img_url': 'http://astropedia.astrogeology.usgs.gov/download/Mars/Viking/syrtis_major_enhanced.tif/full.jpg'}, {'title': 'Valles Marineris Hemisphere', 'img_url': 'http://astropedia.astrogeology.usgs.gov/download/Mars/Viking/valles_marineris_enhanced.tif/full.jpg'}]\n"
     ]
    },
    {
     "data": {
      "text/plain": [
       "{'hemisphere_image_urls': [{'title': 'Cerberus Hemisphere',\n",
       "   'img_url': 'http://astropedia.astrogeology.usgs.gov/download/Mars/Viking/cerberus_enhanced.tif/full.jpg'},\n",
       "  {'title': 'Schiaparelli Hemisphere',\n",
       "   'img_url': 'http://astropedia.astrogeology.usgs.gov/download/Mars/Viking/schiaparelli_enhanced.tif/full.jpg'},\n",
       "  {'title': 'Syrtis Major Hemisphere',\n",
       "   'img_url': 'http://astropedia.astrogeology.usgs.gov/download/Mars/Viking/syrtis_major_enhanced.tif/full.jpg'},\n",
       "  {'title': 'Valles Marineris Hemisphere',\n",
       "   'img_url': 'http://astropedia.astrogeology.usgs.gov/download/Mars/Viking/valles_marineris_enhanced.tif/full.jpg'}]}"
      ]
     },
     "execution_count": 30,
     "metadata": {},
     "output_type": "execute_result"
    }
   ],
   "source": [
    "def scrape_hem(url):\n",
    "    #Scrape main page\n",
    "    scrape_start(url1=url) #Call scraping start function\n",
    "    soup1=soup\n",
    "    res1 = soup1.find_all('div', class_=\"description\") #get url behind 'Full Image' button on main page\n",
    "    hemisphere_image_urls=[]\n",
    "    for r in res1:\n",
    "        d = {}\n",
    "        name=r.a.h3.text.replace(\" Enhanced\",\"\")\n",
    "        link=r.a.get('href')\n",
    "        #create link to detailed page with large image\n",
    "        url2=\"https://astrogeology.usgs.gov\" + link\n",
    "        #Scrape page with large (full size) image\n",
    "        scrape_start(url1=url2) #Call scraping start function\n",
    "        soup_img=soup\n",
    "        res_img=soup_img.find('div', class_=\"downloads\").find('ul').find('li').find('a').get('href')\n",
    "        img_url=res_img\n",
    "        d['title'] = name\n",
    "        d['img_url']=img_url\n",
    "        hemisphere_image_urls.append(d)\n",
    "    print (hemisphere_image_urls)\n",
    "    mars_dict[\"hemisphere_image_urls\"] = hemisphere_image_urls\n",
    "    return mars_dict\n",
    "\n",
    "scrape_hem(url=\"https://astrogeology.usgs.gov/search/results?q=hemisphere+enhanced&k1=target&v1=Mars\")"
   ]
  },
  {
   "cell_type": "code",
   "execution_count": 33,
   "metadata": {},
   "outputs": [
    {
     "data": {
      "text/plain": [
       "'http://astropedia.astrogeology.usgs.gov/download/Mars/Viking/cerberus_enhanced.tif/full.jpg'"
      ]
     },
     "execution_count": 33,
     "metadata": {},
     "output_type": "execute_result"
    }
   ],
   "source": [
    "mars_dict[\"hemisphere_image_urls\"][0][\"img_url\"] "
   ]
  },
  {
   "cell_type": "code",
   "execution_count": 35,
   "metadata": {},
   "outputs": [
    {
     "name": "stdout",
     "output_type": "stream",
     "text": [
      "[{'title': 'Cerberus Hemisphere', 'img_url': 'http://astropedia.astrogeology.usgs.gov/download/Mars/Viking/cerberus_enhanced.tif/full.jpg'}, {'title': 'Schiaparelli Hemisphere', 'img_url': 'http://astropedia.astrogeology.usgs.gov/download/Mars/Viking/schiaparelli_enhanced.tif/full.jpg'}, {'title': 'Syrtis Major Hemisphere', 'img_url': 'http://astropedia.astrogeology.usgs.gov/download/Mars/Viking/syrtis_major_enhanced.tif/full.jpg'}, {'title': 'Valles Marineris Hemisphere', 'img_url': 'http://astropedia.astrogeology.usgs.gov/download/Mars/Viking/valles_marineris_enhanced.tif/full.jpg'}]\n"
     ]
    },
    {
     "data": {
      "text/plain": [
       "{'hemisphere_image_urls': [{'title': 'Cerberus Hemisphere',\n",
       "   'img_url': 'http://astropedia.astrogeology.usgs.gov/download/Mars/Viking/cerberus_enhanced.tif/full.jpg'},\n",
       "  {'title': 'Schiaparelli Hemisphere',\n",
       "   'img_url': 'http://astropedia.astrogeology.usgs.gov/download/Mars/Viking/schiaparelli_enhanced.tif/full.jpg'},\n",
       "  {'title': 'Syrtis Major Hemisphere',\n",
       "   'img_url': 'http://astropedia.astrogeology.usgs.gov/download/Mars/Viking/syrtis_major_enhanced.tif/full.jpg'},\n",
       "  {'title': 'Valles Marineris Hemisphere',\n",
       "   'img_url': 'http://astropedia.astrogeology.usgs.gov/download/Mars/Viking/valles_marineris_enhanced.tif/full.jpg'}]}"
      ]
     },
     "execution_count": 35,
     "metadata": {},
     "output_type": "execute_result"
    }
   ],
   "source": [
    "    def scrape_hem(url):\n",
    "        #Scrape main page\n",
    "        scrape_start(url1=url) #Call scraping start function\n",
    "        soup1=soup\n",
    "        res1 = soup1.find_all('div', class_=\"description\") #get url behind 'Full Image' button on main page\n",
    "        hemisphere_image_urls=[]\n",
    "        for r in res1:\n",
    "            d = {}\n",
    "            name=r.a.h3.text.replace(\" Enhanced\",\"\")\n",
    "            link=r.a.get('href')\n",
    "            #create link to detailed page with large image\n",
    "            url2=\"https://astrogeology.usgs.gov\" + link\n",
    "            #Scrape page with large (full size) image\n",
    "            scrape_start(url1=url2) #Call scraping start function\n",
    "            soup_img=soup\n",
    "            res_img=soup_img.find('div', class_=\"downloads\").find('ul').find('li').find('a').get('href')\n",
    "            img_url=res_img\n",
    "            d['title'] = name\n",
    "            d['img_url']=img_url\n",
    "            hemisphere_image_urls.append(d)\n",
    "        print (hemisphere_image_urls)\n",
    "        mars_dict[\"hemisphere_image_urls\"] = hemisphere_image_urls\n",
    "        return mars_dict\n",
    "\n",
    "    scrape_hem(url=\"https://astrogeology.usgs.gov/search/results?q=hemisphere+enhanced&k1=target&v1=Mars\")"
   ]
  },
  {
   "cell_type": "code",
   "execution_count": null,
   "metadata": {},
   "outputs": [],
   "source": [
    "!jupyter nbconvert --to script config_template.ipynb"
   ]
  }
 ],
 "metadata": {
  "kernelspec": {
   "display_name": "Python 3",
   "language": "python",
   "name": "python3"
  },
  "language_info": {
   "codemirror_mode": {
    "name": "ipython",
    "version": 3
   },
   "file_extension": ".py",
   "mimetype": "text/x-python",
   "name": "python",
   "nbconvert_exporter": "python",
   "pygments_lexer": "ipython3",
   "version": "3.6.5"
  }
 },
 "nbformat": 4,
 "nbformat_minor": 2
}
